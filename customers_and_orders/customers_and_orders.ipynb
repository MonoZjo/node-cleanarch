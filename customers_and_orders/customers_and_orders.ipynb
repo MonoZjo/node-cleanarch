{
  "cells": [
    {
      "cell_type": "markdown",
      "metadata": {
        "id": "piiX_CRNFYUi"
      },
      "source": [
        "# Technical Challenge ! Custiomers and Orders - The lifeblood of any business!\n",
        "\n",
        "This notebook depends on two data files: customers.scv and orders.csv. These files are hosted in the cloud (or Github), so for simplicity, we are providing you with the code to download and save the two files in a folder called 'sample_data' which lives within this notebook session (not on your local computer nor Google Drive).\n",
        "\n",
        "![sample_data folder in notebook session](https://raw.githubusercontent.com/anyoneai/notebooks/main/customers_and_orders/images/sample_data_folder.png)\n",
        "\n",
        "Please execute the first code snippet before moving to the rest of the exercise as this code will import the data from the files for you to be able to execute the rest of the exercise.\n",
        "\n",
        "Remember as we said in the previous lecture, you have to save this notebook into your Google Drive by going to menu File/Save a Copy In Drive, or clicking in the button \"Copy to Drive\". This way, you will not lose any work you've done and the file will persist with your latest changes in your Google Drive. Also we recommend you to rename your .ipynb in your Google Drive, so you can easily find it in the future."
      ]
    },
    {
      "cell_type": "code",
      "execution_count": 1,
      "metadata": {
        "colab": {
          "base_uri": "https://localhost:8080/"
        },
        "id": "MWpVO242FQHC",
        "outputId": "081bee30-1b63-4b7d-bd1d-2a1149f65a16"
      },
      "outputs": [
        {
          "output_type": "stream",
          "name": "stdout",
          "text": [
            "Customers and orders CSV files have been added './sample_data'\n"
          ]
        }
      ],
      "source": [
        "import requests\n",
        "\n",
        "def import_data_files():\n",
        "  r = requests.get('https://raw.githubusercontent.com/anyoneai/notebooks/main/customers_and_orders/data/customers.csv')\n",
        "  with open('./sample_data/customers.csv', 'wb') as f:\n",
        "    f.write(r.content)\n",
        "\n",
        "  r = requests.get('https://raw.githubusercontent.com/anyoneai/notebooks/main/customers_and_orders/data/orders.csv')\n",
        "  with open('./sample_data/orders.csv', 'wb') as f:\n",
        "    f.write(r.content)\n",
        "\n",
        "import_data_files()\n",
        "print(\"Customers and orders CSV files have been added './sample_data'\")"
      ]
    },
    {
      "cell_type": "markdown",
      "metadata": {
        "id": "JQAduY-RWKyB"
      },
      "source": [
        "# Exercise 1: Processing Customers data (difficulty medium)\n",
        "\n",
        "The sample customer data in 'customers.csv' file has just 5 columns: CustomerId, First Name, Last Name, City and State\n",
        "\n",
        "![Data sample](https://raw.githubusercontent.com/anyoneai/notebooks/main/customers_and_orders/images/customers.png)\n",
        "\n",
        "We strongly recommend that you complete from the [Prep Course: Intro to Python](https://colab.research.google.com/github/anyoneai/notebooks/blob/main/python3_crash_course.ipynb) the following section:\n",
        "- Section 7: File I/O (to understand how to read CSV file)\n",
        "- Section 6: For Loop (to navigate the contents of the CSV file)\n",
        "- Section 5: Tuples, Lists, and Dictionaries (to manipulate the data of the CSV file)\n",
        "\n",
        "With this, we hope you can complete this exercise successfully. Although if you want to solve this with libraries or any other way, you are welcome to do it your way.\n",
        "\n",
        "*Hint:* We advise you to take a look at the data before you start.\n",
        "**if you want to manually take a look at the data before you start, please see the content of the data [here](https://github.com/anyoneai/notebooks/blob/main/customers_and_orders/data/customers.csv).\n",
        "\n",
        "*Hint*: There are many ways to do this exercise you can do your own, although here's some help. You can solve this exercise reading and parsing CSV files, structuring data into dictionaries, and using for loops to navigate the contents\n",
        "\n",
        "*Hint*: Also, keep in mind that data might not be clean and you might have to figure out how to deal with that data from the code, without having to modify the data source.\n",
        "\n",
        "Below are the 5 questions you'll have to answer to pass the evaluation:"
      ]
    },
    {
      "cell_type": "markdown",
      "metadata": {
        "id": "kJq7S8sBfbOW"
      },
      "source": [
        "**Question 1:** How many customers are in the file?\n",
        "(as help, we have added some comments and starter code to help you structure the solution)"
      ]
    },
    {
      "cell_type": "code",
      "execution_count": 56,
      "metadata": {
        "colab": {
          "base_uri": "https://localhost:8080/"
        },
        "id": "oMnUFBFb2RUb",
        "outputId": "a539c9ab-bcce-4ee6-f4f8-98520e849c74"
      },
      "outputs": [
        {
          "output_type": "stream",
          "name": "stdout",
          "text": [
            "The number of costumers are: 602\n",
            "All done!\n"
          ]
        }
      ],
      "source": [
        "from os.path import exists\n",
        "import csv\n",
        "\n",
        "# check if file can be found and open the file\n",
        "datafile = \"./sample_data/customers.csv\"\n",
        "if not exists(datafile):\n",
        "  raise SystemExit(\"You should run the first code cell and download the dataset files!\")\n",
        "\n",
        "# customers file is in the sample_data folder and can be opened.\n",
        "# Using csv reader is one way of dealing with the file\n",
        "# but it's up to you how you want to proceed\n",
        "line_code = 0\n",
        "costumers = []\n",
        "with open(datafile, 'r') as fl:\n",
        "  csvreader = csv.reader(fl, delimiter=',')\n",
        "\n",
        "  # loop through the rows and count etc. THE REST IS UP TO YOU!\n",
        "  for line in fl:\n",
        "    line_code += 1\n",
        "    costumers.append(line)\n",
        "    #print(line)\n",
        "\n",
        "\n",
        "# Delete header file\n",
        "line_code -= 1\n",
        "print(f'The number of costumers are: {line_code}')\n",
        "# this comments lines are for check info of costumers\n",
        "#costumers.pop(0)\n",
        "#print(costumers)\n",
        "#print(costumers[0])\n",
        "#print(costumers[1])\n",
        "#print(costumers[-1])\n",
        "#print(f'The number of costumers are: {len(costumers)}')\n",
        "\n",
        "print(\"All done!\")"
      ]
    },
    {
      "cell_type": "markdown",
      "metadata": {
        "id": "uffBnNgz_570"
      },
      "source": [
        "**Question 2:** In how many different states do the customers live in?"
      ]
    },
    {
      "cell_type": "code",
      "execution_count": 164,
      "metadata": {
        "id": "Bi_yid0sMe3-",
        "colab": {
          "base_uri": "https://localhost:8080/"
        },
        "outputId": "d7ce318b-50aa-421a-cad9-567aba972ab5"
      },
      "outputs": [
        {
          "output_type": "stream",
          "name": "stdout",
          "text": [
            "The customers live in: 14 states different\n"
          ]
        }
      ],
      "source": [
        "# open file and init vars\n",
        "import pandas as pd\n",
        "import os\n",
        "\n",
        "# check if file can be found and open the file\n",
        "datafile = \"./sample_data/customers.csv\"\n",
        "if os.path.exists(datafile):\n",
        "  # customers file is in the sample_data folder and can be opened.\n",
        "  df = pd.read_csv(datafile)\n",
        "\n",
        "  # evaluate the contents of the file\n",
        "  count_states = df['State'].str.lower().str.strip().str.upper().nunique()\n",
        "  print(f'The customers live in: {count_states} states different')\n",
        "\n",
        "  # this comments lines are only for check info of states\n",
        "  #print(df['State'].value_counts())\n",
        "else:\n",
        "  print(f\"File not found: {datafile}\")\n"
      ]
    },
    {
      "cell_type": "markdown",
      "metadata": {
        "id": "DC59SZYiMfNY"
      },
      "source": [
        "**Question 3** What is the state with most customers?"
      ]
    },
    {
      "cell_type": "code",
      "execution_count": 165,
      "metadata": {
        "id": "tfGU3w-OMhA9",
        "colab": {
          "base_uri": "https://localhost:8080/"
        },
        "outputId": "dd1fe124-788f-47df-c078-9e4b2f88f69d"
      },
      "outputs": [
        {
          "output_type": "stream",
          "name": "stdout",
          "text": [
            "The state with most customers is: CA with: 569\n"
          ]
        }
      ],
      "source": [
        "# open file and init vars\n",
        "import pandas as pd\n",
        "import os\n",
        "\n",
        "# check if file can be found and open the file\n",
        "datafile = \"./sample_data/customers.csv\"\n",
        "if os.path.exists(datafile):\n",
        "  # customers file is in the sample_data folder and can be opened.\n",
        "  df = pd.read_csv(datafile)\n",
        "\n",
        "  state_most_customers = df['State'].str.lower().str.strip().str.upper().value_counts().idxmax()\n",
        "  count_most_customers = df['State'].str.lower().str.strip().str.upper().value_counts().max()\n",
        "  print(f'The state with most customers is: {state_most_customers} with: {count_most_customers}')\n",
        "\n",
        "\n",
        "  # this comments lines are only for check info of states\n",
        "  #print(df['State'].value_counts())\n",
        "else:\n",
        "  print(f\"File not found: {datafile}\")\n"
      ]
    },
    {
      "cell_type": "markdown",
      "metadata": {
        "id": "7mcM6cUAMhLB"
      },
      "source": [
        "**Question 4** What is the state with the least customers?"
      ]
    },
    {
      "cell_type": "code",
      "execution_count": 167,
      "metadata": {
        "id": "8T0Ka2RqMi3P",
        "colab": {
          "base_uri": "https://localhost:8080/"
        },
        "outputId": "d64181fc-858a-4e09-d439-7a039a8f3fb3"
      },
      "outputs": [
        {
          "output_type": "stream",
          "name": "stdout",
          "text": [
            "The state with least customers is: NH with: 1\n",
            "The state with least customers is: WA with: 1\n",
            "The state with least customers is: ID with: 1\n",
            "The state with least customers is: OR with: 1\n",
            "The state with least customers is: MA with: 1\n",
            "The state with least customers is: IN with: 1\n"
          ]
        }
      ],
      "source": [
        "# open file and init vars\n",
        "import pandas as pd\n",
        "import os\n",
        "\n",
        "# check if file can be found and open the file\n",
        "datafile = \"./sample_data/customers.csv\"\n",
        "if os.path.exists(datafile):\n",
        "  # customers file is in the sample_data folder and can be opened.\n",
        "  df = pd.read_csv(datafile)\n",
        "\n",
        "  count_states_customers = df['State'].str.lower().str.strip().str.upper().value_counts()\n",
        "  least_customers_state = count_states_customers[count_states_customers < 2]\n",
        "\n",
        "  for state, count in least_customers_state.items():\n",
        "    print(f'The state with least customers is: {state} with: {count}')\n",
        "\n",
        "  # this comments lines are only for check info of states\n",
        "  #print(df['State'].value_counts())\n",
        "else:\n",
        "  print(f\"File not found: {datafile}\")"
      ]
    },
    {
      "cell_type": "markdown",
      "metadata": {
        "id": "h6fIy7hXHF6A"
      },
      "source": [
        "**Question 5:** What is the most common last name?"
      ]
    },
    {
      "cell_type": "code",
      "execution_count": 86,
      "metadata": {
        "id": "k8M1DmA75Km7",
        "colab": {
          "base_uri": "https://localhost:8080/"
        },
        "outputId": "27a5888c-f269-4184-fb1e-16343ca40926"
      },
      "outputs": [
        {
          "output_type": "stream",
          "name": "stdout",
          "text": [
            "The most common last name is: Smith with: 8\n"
          ]
        }
      ],
      "source": [
        "import pandas as pd\n",
        "import os\n",
        "\n",
        "# check if file can be found and open the file\n",
        "datafile = \"./sample_data/customers.csv\"\n",
        "if os.path.exists(datafile):\n",
        "  # customers file is in the sample_data folder and can be opened.\n",
        "  df = pd.read_csv(datafile)\n",
        "\n",
        "  common_last_name = df['LastName'].str.lower().str.strip().str.title().value_counts()\n",
        "  count_common     = common_last_name.values[0]\n",
        "\n",
        "  print(f'The most common last name is: {common_last_name.index[0]} with: {count_common}')\n",
        "\n",
        "  # this comments lines are only for check info of common last name\n",
        "  #print(df['LastName'].value_counts())\n",
        "  #print(f'{last_name}')\n",
        "else:\n",
        "  print(f\"File not found: {datafile}\")"
      ]
    },
    {
      "cell_type": "markdown",
      "metadata": {
        "id": "YPRma1t9NoFk"
      },
      "source": [
        "# Exercise 2: Processing Orders data (difficulty high)\n",
        "\n",
        "The second sample files contains orders placed by customers from the first file. Be careful, this file has many rows and you most likely should not print the contents of the whole file.\n",
        "\n",
        "The file contains the following columns: CustomerID, OrderID, Date, OrderTotal, ProductName, Price\n",
        "\n",
        "![Data sample](https://raw.githubusercontent.com/anyoneai/notebooks/main/customers_and_orders/images/orders.png)\n",
        "\n",
        "*Hint:* We advise you to take a look at the data before you start.\n",
        "**if you want to manually take a look at the data before you start, please see the content of the data [here](https://raw.githubusercontent.com/anyoneai/notebooks/main/customers_and_orders/data/orders.csv).\n",
        "\n",
        "*Hint*: There are many ways to do this exercise you can do your own, although here's some help. You can solve this exercise reading and parsing CSV files, structuring data into dictionaries, and using for loops to navigate the contents\n",
        "\n",
        "*Hint*: Also, the data is not clean and you will have to figure out how to deal with that data from the code, without having to modify the data source.\n",
        "\n",
        "\n",
        "\n",
        "**Question #1:** How many unique orders are in the orders.csv file?\n",
        "\n",
        "**Question #2:** What is the average number of items per order (rounded to two decimal places)?\n",
        "\n",
        "**Question #3:** What is the highest number of items per order?\n",
        "\n",
        "**Question #4:** What is the number of orders placed in October 2021?\n",
        "\n",
        "**Question #5:** Which customer spent the most amount of money in 2021?\n",
        "\n",
        "**Question #6:** Historically, what is the best month for sales?\n",
        "\n",
        "Once you get your answers, remember to go back to the course and introduce them in the multiple choice quiz"
      ]
    },
    {
      "cell_type": "markdown",
      "source": [
        "**Question #1:** How many unique orders are in the orders.csv file?"
      ],
      "metadata": {
        "id": "NUXz6sjAaQY2"
      }
    },
    {
      "cell_type": "code",
      "execution_count": 127,
      "metadata": {
        "id": "8ipJTrfs5QVM",
        "colab": {
          "base_uri": "https://localhost:8080/"
        },
        "outputId": "19c09f3b-8911-4a8c-c2f4-1de1d43aa172"
      },
      "outputs": [
        {
          "output_type": "stream",
          "name": "stdout",
          "text": [
            "The number of orders are: 16672\n"
          ]
        }
      ],
      "source": [
        "# open and evaluate orders.csv\n",
        "import pandas as pd\n",
        "import os\n",
        "\n",
        "# check if file can be found and open the file\n",
        "datafile = \"./sample_data/orders.csv\"\n",
        "if os.path.exists(datafile):\n",
        "  # customers file is in the sample_data folder and can be opened.\n",
        "  df = pd.read_csv(datafile)\n",
        "\n",
        "  total_orders = df['OrderID'].nunique()\n",
        "  print(f'The number of orders are: {total_orders}')\n",
        "\n",
        "else:\n",
        "  print(f\"File not found: {datafile}\")"
      ]
    },
    {
      "cell_type": "markdown",
      "source": [
        "**Question #2:** What is the average number of items per order (rounded to two decimal places)?"
      ],
      "metadata": {
        "id": "h1CWqXS4cwcr"
      }
    },
    {
      "cell_type": "code",
      "source": [
        "# open and evaluate orders.csv\n",
        "import pandas as pd\n",
        "import os\n",
        "\n",
        "# check if file can be found and open the file\n",
        "datafile = \"./sample_data/orders.csv\"\n",
        "if os.path.exists(datafile):\n",
        "  # customers file is in the sample_data folder and can be opened.\n",
        "  df = pd.read_csv(datafile)\n",
        "\n",
        "  total_orders = df['OrderID'].nunique()\n",
        "  total_items  = len(df)\n",
        "  average_items = total_items / total_orders\n",
        "  print(f'Total orders: {total_orders}')\n",
        "  print(f'Total items: {total_items}')\n",
        "  print(f'For total of {total_orders} orders, the average is: {average_items:.2f} items for order')\n",
        "\n",
        "else:\n",
        "  print(f\"File not found: {datafile}\")"
      ],
      "metadata": {
        "colab": {
          "base_uri": "https://localhost:8080/"
        },
        "id": "ugpNgcoUdqov",
        "outputId": "1e228a67-a44f-4e0f-f738-88b2b6e4fb35"
      },
      "execution_count": 126,
      "outputs": [
        {
          "output_type": "stream",
          "name": "stdout",
          "text": [
            "Total orders: 16672\n",
            "Total items: 29294\n",
            "For total of 16672 orders, the average is: 1.76 items for order\n"
          ]
        }
      ]
    },
    {
      "cell_type": "markdown",
      "source": [
        "**Question #3:** What is the highest number of items per order?"
      ],
      "metadata": {
        "id": "NQi1_S7Cg6Bs"
      }
    },
    {
      "cell_type": "code",
      "source": [
        "# open and evaluate orders.csv\n",
        "import pandas as pd\n",
        "import os\n",
        "\n",
        "# check if file can be found and open the file\n",
        "datafile = \"./sample_data/orders.csv\"\n",
        "if os.path.exists(datafile):\n",
        "  # customers file is in the sample_data folder and can be opened.\n",
        "  df = pd.read_csv(datafile)\n",
        "\n",
        "  items = df.groupby('OrderID').size()\n",
        "  max_items = items.max()\n",
        "  print(f'The highest number of items per order is: {max_items}')\n",
        "\n",
        "\n",
        "  # this comments lines are only for check info\n",
        "  #print(f'{items}')\n",
        "else:\n",
        "  print(f\"File not found: {datafile}\")"
      ],
      "metadata": {
        "colab": {
          "base_uri": "https://localhost:8080/"
        },
        "id": "d1vrizR2hDWQ",
        "outputId": "9ce2f4d1-1ecc-45b0-d3e5-7195d5a96cf8"
      },
      "execution_count": 143,
      "outputs": [
        {
          "output_type": "stream",
          "name": "stdout",
          "text": [
            "The highest number of items per order is: 35\n"
          ]
        }
      ]
    },
    {
      "cell_type": "markdown",
      "source": [
        "**Question #4:** What is the number of orders placed in October 2021?"
      ],
      "metadata": {
        "id": "QO1lP4g3jNX8"
      }
    },
    {
      "cell_type": "code",
      "source": [
        "# open and evaluate orders.csv\n",
        "import pandas as pd\n",
        "import os\n",
        "\n",
        "# check if file can be found and open the file\n",
        "datafile = \"./sample_data/orders.csv\"\n",
        "if os.path.exists(datafile):\n",
        "  # customers file is in the sample_data folder and can be opened.\n",
        "  df = pd.read_csv(datafile)\n",
        "\n",
        "  df['Date'] = pd.to_datetime(df['Date'])\n",
        "  orders_october = df[\n",
        "      (df['Date'].dt.year == 2021) &\n",
        "      (df['Date'].dt.month == 10)\n",
        "      ]\n",
        "\n",
        "  print(f'The number of orders placed in October 2021 are: {len(orders_october)}')\n",
        "\n",
        "  # this comments lines are only for check info\n",
        "  #print(f'{df}')\n",
        "else:\n",
        "  print(f\"File not found: {datafile}\")"
      ],
      "metadata": {
        "colab": {
          "base_uri": "https://localhost:8080/"
        },
        "id": "-cAJ6dtYjQqQ",
        "outputId": "96984eea-c64c-48a8-c0f0-5ce22b862aaf"
      },
      "execution_count": 144,
      "outputs": [
        {
          "output_type": "stream",
          "name": "stdout",
          "text": [
            "The number of orders placed in October 2021 are: 437\n"
          ]
        }
      ]
    },
    {
      "cell_type": "markdown",
      "source": [
        "**Question #5:** Which customer spent the most amount of money in 2021?"
      ],
      "metadata": {
        "id": "jcFFW9XimGHm"
      }
    },
    {
      "cell_type": "code",
      "source": [
        "# open and evaluate orders.csv\n",
        "import pandas as pd\n",
        "import os\n",
        "\n",
        "# check if file can be found and open the file\n",
        "\n",
        "datafile_customers = \"./sample_data/customers.csv\"\n",
        "datafile = \"./sample_data/orders.csv\"\n",
        "if os.path.exists(datafile_customers) and os.path.exists(datafile):\n",
        "  # customers file is in the sample_data folder and can be opened.\n",
        "  df_customers = pd.read_csv(datafile_customers)\n",
        "  df = pd.read_csv(datafile)\n",
        "\n",
        "  def find_custumer(customer_id):\n",
        "    return df_customers[df_customers['CustomerID'] == customer_id]['FirstName'].values[0]\n",
        "\n",
        "\n",
        "  df['Date'] = pd.to_datetime(df['Date'])\n",
        "  df_2021    = df[df['Date'].dt.year == 2021]\n",
        "\n",
        "  unique_orders = df_2021.drop_duplicates('OrderID')\n",
        "  spend_by_customers = unique_orders.groupby('CustomerID')['OrderTotal'].sum()\n",
        "\n",
        "  customer           = spend_by_customers.idxmax()\n",
        "  amount             = spend_by_customers.max()\n",
        "  print(f'The customer spent the most amount of money in 2021 is: ({customer})-{ find_custumer(customer)} with a total spent: ${amount:,.2f}')\n",
        "\n",
        "  # this comments lines are only for check info\n",
        "  #print(f'{df_2021}')\n",
        "  #print(f'{spend_by_customers}')\n",
        "else:\n",
        "  print(f\"File not found: {datafile}\")"
      ],
      "metadata": {
        "colab": {
          "base_uri": "https://localhost:8080/"
        },
        "id": "4lLhGIRPmJB3",
        "outputId": "48c7e891-decb-4ce9-99f1-dc671f2ad071"
      },
      "execution_count": 173,
      "outputs": [
        {
          "output_type": "stream",
          "name": "stdout",
          "text": [
            "The customer spent the most amount of money in 2021 is: (5172443)-Brandon with a total spent: $7,755.00\n"
          ]
        }
      ]
    },
    {
      "cell_type": "markdown",
      "source": [
        "**Question #6:** Historically, what is the best month for sales?"
      ],
      "metadata": {
        "id": "nt5GbUrCrIEb"
      }
    },
    {
      "cell_type": "code",
      "source": [
        "# open and evaluate orders.csv\n",
        "import pandas as pd\n",
        "import os\n",
        "\n",
        "months = {\n",
        "    1: 'January',\n",
        "    2: 'February',\n",
        "    3: 'March',\n",
        "    4: 'April',\n",
        "    5: 'May',\n",
        "    6: 'June',\n",
        "    7: 'July',\n",
        "    8: 'August',\n",
        "    9: 'September',\n",
        "    10: 'October',\n",
        "    11: 'November',\n",
        "    12: 'December'\n",
        "}\n",
        "\n",
        "# check if file can be found and open the file\n",
        "datafile = \"./sample_data/orders.csv\"\n",
        "if os.path.exists(datafile):\n",
        "  # customers file is in the sample_data folder and can be opened.\n",
        "  df = pd.read_csv(datafile)\n",
        "  df['Date'] = pd.to_datetime(df['Date'])\n",
        "\n",
        "  df['Year'] = df['Date'].dt.year\n",
        "  df['Month'] = df['Date'].dt.month\n",
        "\n",
        "  unique_orders   = df.drop_duplicates('OrderID')\n",
        "  sales_by_month = unique_orders.groupby('Month')['OrderTotal'].sum()\n",
        "  best_month     = int(sales_by_month.idxmax())\n",
        "  amount         = sales_by_month.max()\n",
        "  print(f'The best month for sales is: { months[best_month]} with: ${amount:,.2f}')\n",
        "\n",
        "  # this comments lines are only for check info\n",
        "  #print(f'{sales_by_month}')\n",
        "else:\n",
        "  print(f\"File not found: {datafile}\")"
      ],
      "metadata": {
        "colab": {
          "base_uri": "https://localhost:8080/"
        },
        "id": "UWA8g16frL5d",
        "outputId": "7142d40e-e656-4978-d071-81d9b20eb481"
      },
      "execution_count": 177,
      "outputs": [
        {
          "output_type": "stream",
          "name": "stdout",
          "text": [
            "The best month for sales is: January with: $292,908.00\n"
          ]
        }
      ]
    },
    {
      "cell_type": "markdown",
      "source": [
        "\n"
      ],
      "metadata": {
        "id": "DpLQvRrIrDzp"
      }
    },
    {
      "cell_type": "markdown",
      "source": [],
      "metadata": {
        "id": "FXxDy_KSrKgf"
      }
    },
    {
      "cell_type": "markdown",
      "metadata": {
        "id": "ie0JW4FAk6Os"
      },
      "source": [
        "# Finished!\n",
        "\n",
        "Hope this was not too difficult and slicing and dicing the datasets was some fun. Now head on back to the course and provide the answers to the questions from this exercise."
      ]
    }
  ],
  "metadata": {
    "colab": {
      "name": "customers_and_orders.ipynb",
      "provenance": []
    },
    "kernelspec": {
      "display_name": "Python 3 (ipykernel)",
      "language": "python",
      "name": "python3"
    },
    "language_info": {
      "codemirror_mode": {
        "name": "ipython",
        "version": 3
      },
      "file_extension": ".py",
      "mimetype": "text/x-python",
      "name": "python",
      "nbconvert_exporter": "python",
      "pygments_lexer": "ipython3",
      "version": "3.9.9"
    }
  },
  "nbformat": 4,
  "nbformat_minor": 0
}